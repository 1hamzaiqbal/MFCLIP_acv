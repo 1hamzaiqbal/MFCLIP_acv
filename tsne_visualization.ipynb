{
  "cells": [
    {
      "cell_type": "markdown",
      "metadata": {},
      "source": [
        "# t-SNE visualization for CLIP features\n",
        "\n",
        "This notebook:\n",
        "- Extracts CLIP image features and labels using the repo's `lpclip/feat_extractor.py`.\n",
        "- Runs t-SNE on a chosen split and saves a scatter plot (`tsne_<split>.png`).\n",
        "\n",
        "Adjust `repo_root`, `data_root`, `dataset_cfg`, `trainer_cfg`, and `split` as needed.\n"
      ]
    },
    {
      "cell_type": "code",
      "execution_count": 6,
      "metadata": {},
      "outputs": [
        {
          "name": "stdout",
          "output_type": "stream",
          "text": [
            "Repo root: /Users/hamzaiqbal/grad/comp_vision/project_mf-clip/MFCLIP_acv\n",
            "Data root: /content/data\n",
            "Trainer cfg: /Users/hamzaiqbal/grad/comp_vision/project_mf-clip/MFCLIP_acv/configs/trainers/CoOp/rn50.yaml\n",
            "Dataset cfg: /Users/hamzaiqbal/grad/comp_vision/project_mf-clip/MFCLIP_acv/configs/datasets/oxford_pets.yaml\n",
            "Split: test\n"
          ]
        }
      ],
      "source": [
        "import os\n",
        "import sys\n",
        "import subprocess\n",
        "from pathlib import Path\n",
        "\n",
        "# --- User settings ---\n",
        "repo_root = Path(\"/Users/hamzaiqbal/grad/comp_vision/project_mf-clip/MFCLIP_acv\")\n",
        "data_root = Path(\"/content/data\")  # change if running locally (e.g., Path(\"/path/to/data\"))\n",
        "trainer_cfg = repo_root / \"configs/trainers/CoOp/rn50.yaml\"\n",
        "dataset_cfg = repo_root / \"configs/datasets/oxford_pets.yaml\"\n",
        "output_dir = repo_root / \"clip_feat\"\n",
        "split = \"test\"  # \"train\", \"val\", or \"test\"\n",
        "# ---------------------\n",
        "\n",
        "# Optional installs (only if missing)\n",
        "try:\n",
        "    import numpy as np\n",
        "    from sklearn.manifold import TSNE\n",
        "    import seaborn as sns\n",
        "    import matplotlib.pyplot as plt\n",
        "except Exception:\n",
        "    subprocess.run([sys.executable, \"-m\", \"pip\", \"install\", \"numpy\", \"scikit-learn\", \"seaborn\", \"matplotlib\"], check=True)\n",
        "    import numpy as np\n",
        "    from sklearn.manifold import TSNE\n",
        "    import seaborn as sns\n",
        "    import matplotlib.pyplot as plt\n",
        "\n",
        "print(\"Repo root:\", repo_root)\n",
        "print(\"Data root:\", data_root)\n",
        "print(\"Trainer cfg:\", trainer_cfg)\n",
        "print(\"Dataset cfg:\", dataset_cfg)\n",
        "print(\"Split:\", split)\n",
        "\n",
        "assert repo_root.exists(), f\"repo_root not found: {repo_root}\"\n",
        "assert trainer_cfg.exists(), f\"trainer cfg not found: {trainer_cfg}\"\n",
        "assert dataset_cfg.exists(), f\"dataset cfg not found: {dataset_cfg}\"\n",
        "\n",
        "output_dir.mkdir(parents=True, exist_ok=True)\n",
        "\n"
      ]
    },
    {
      "cell_type": "code",
      "execution_count": 7,
      "metadata": {},
      "outputs": [
        {
          "name": "stdout",
          "output_type": "stream",
          "text": [
            "Running:\n",
            " /usr/local/bin/python3 /Users/hamzaiqbal/grad/comp_vision/project_mf-clip/MFCLIP_acv/lpclip/feat_extractor.py --root /content/data --output-dir /Users/hamzaiqbal/grad/comp_vision/project_mf-clip/MFCLIP_acv/clip_feat --config-file /Users/hamzaiqbal/grad/comp_vision/project_mf-clip/MFCLIP_acv/configs/trainers/CoOp/rn50.yaml --dataset-config-file /Users/hamzaiqbal/grad/comp_vision/project_mf-clip/MFCLIP_acv/configs/datasets/oxford_pets.yaml --split test\n",
            "\n",
            "Traceback (most recent call last):\n",
            "  File \"/Users/hamzaiqbal/grad/comp_vision/project_mf-clip/MFCLIP_acv/lpclip/feat_extractor.py\", line 3, in <module>\n",
            "    import torch\n",
            "ModuleNotFoundError: No module named 'torch'\n",
            "\n"
          ]
        },
        {
          "ename": "RuntimeError",
          "evalue": "Feature extraction failed; see stderr above.",
          "output_type": "error",
          "traceback": [
            "\u001b[0;31m---------------------------------------------------------------------------\u001b[0m",
            "\u001b[0;31mRuntimeError\u001b[0m                              Traceback (most recent call last)",
            "Cell \u001b[0;32mIn[7], line 18\u001b[0m\n\u001b[1;32m     16\u001b[0m \u001b[38;5;28;01mif\u001b[39;00m res\u001b[38;5;241m.\u001b[39mreturncode \u001b[38;5;241m!=\u001b[39m \u001b[38;5;241m0\u001b[39m:\n\u001b[1;32m     17\u001b[0m     \u001b[38;5;28mprint\u001b[39m(res\u001b[38;5;241m.\u001b[39mstderr)\n\u001b[0;32m---> 18\u001b[0m     \u001b[38;5;28;01mraise\u001b[39;00m \u001b[38;5;167;01mRuntimeError\u001b[39;00m(\u001b[38;5;124m\"\u001b[39m\u001b[38;5;124mFeature extraction failed; see stderr above.\u001b[39m\u001b[38;5;124m\"\u001b[39m)\n\u001b[1;32m     20\u001b[0m \u001b[38;5;66;03m# Expected output file path\u001b[39;00m\n\u001b[1;32m     21\u001b[0m npz_path \u001b[38;5;241m=\u001b[39m output_dir \u001b[38;5;241m/\u001b[39m \u001b[38;5;124m\"\u001b[39m\u001b[38;5;124mOxfordPets\u001b[39m\u001b[38;5;124m\"\u001b[39m \u001b[38;5;241m/\u001b[39m \u001b[38;5;124mf\u001b[39m\u001b[38;5;124m\"\u001b[39m\u001b[38;5;132;01m{\u001b[39;00msplit\u001b[38;5;132;01m}\u001b[39;00m\u001b[38;5;124m.npz\u001b[39m\u001b[38;5;124m\"\u001b[39m\n",
            "\u001b[0;31mRuntimeError\u001b[0m: Feature extraction failed; see stderr above."
          ]
        }
      ],
      "source": [
        "import shlex\n",
        "\n",
        "# Run feature extraction for the chosen split using the repo script\n",
        "cmd = [\n",
        "    sys.executable,\n",
        "    str(repo_root / \"lpclip/feat_extractor.py\"),\n",
        "    \"--root\", str(data_root),\n",
        "    \"--output-dir\", str(output_dir),\n",
        "    \"--config-file\", str(trainer_cfg),\n",
        "    \"--dataset-config-file\", str(dataset_cfg),\n",
        "    \"--split\", split,\n",
        "]\n",
        "print(\"Running:\\n\", \" \".join(shlex.quote(p) for p in cmd))\n",
        "res = subprocess.run(cmd, cwd=str(repo_root), capture_output=True, text=True)\n",
        "print(res.stdout)\n",
        "if res.returncode != 0:\n",
        "    print(res.stderr)\n",
        "    raise RuntimeError(\"Feature extraction failed; see stderr above.\")\n",
        "\n",
        "# Expected output file path\n",
        "npz_path = output_dir / \"OxfordPets\" / f\"{split}.npz\"\n",
        "print(\"Feature file:\", npz_path)\n",
        "assert npz_path.exists(), f\"Did not find features at {npz_path}\"\n",
        "\n"
      ]
    },
    {
      "cell_type": "code",
      "execution_count": 8,
      "metadata": {},
      "outputs": [
        {
          "ename": "NameError",
          "evalue": "name 'npz_path' is not defined",
          "output_type": "error",
          "traceback": [
            "\u001b[0;31m---------------------------------------------------------------------------\u001b[0m",
            "\u001b[0;31mNameError\u001b[0m                                 Traceback (most recent call last)",
            "Cell \u001b[0;32mIn[8], line 7\u001b[0m\n\u001b[1;32m      4\u001b[0m \u001b[38;5;28;01mimport\u001b[39;00m\u001b[38;5;250m \u001b[39m\u001b[38;5;21;01mseaborn\u001b[39;00m\u001b[38;5;250m \u001b[39m\u001b[38;5;28;01mas\u001b[39;00m\u001b[38;5;250m \u001b[39m\u001b[38;5;21;01msns\u001b[39;00m\n\u001b[1;32m      6\u001b[0m \u001b[38;5;66;03m# Load features and labels\u001b[39;00m\n\u001b[0;32m----> 7\u001b[0m npz \u001b[38;5;241m=\u001b[39m np\u001b[38;5;241m.\u001b[39mload(\u001b[43mnpz_path\u001b[49m)\n\u001b[1;32m      8\u001b[0m X \u001b[38;5;241m=\u001b[39m npz[\u001b[38;5;124m\"\u001b[39m\u001b[38;5;124mfeature_list\u001b[39m\u001b[38;5;124m\"\u001b[39m]\u001b[38;5;241m.\u001b[39mastype(\u001b[38;5;124m\"\u001b[39m\u001b[38;5;124mfloat32\u001b[39m\u001b[38;5;124m\"\u001b[39m)\n\u001b[1;32m      9\u001b[0m y \u001b[38;5;241m=\u001b[39m npz[\u001b[38;5;124m\"\u001b[39m\u001b[38;5;124mlabel_list\u001b[39m\u001b[38;5;124m\"\u001b[39m]\u001b[38;5;241m.\u001b[39mastype(\u001b[38;5;124m\"\u001b[39m\u001b[38;5;124mint32\u001b[39m\u001b[38;5;124m\"\u001b[39m)\n",
            "\u001b[0;31mNameError\u001b[0m: name 'npz_path' is not defined"
          ]
        }
      ],
      "source": [
        "import numpy as np\n",
        "from sklearn.manifold import TSNE\n",
        "import matplotlib.pyplot as plt\n",
        "import seaborn as sns\n",
        "\n",
        "# Load features and labels\n",
        "npz = np.load(npz_path)\n",
        "X = npz[\"feature_list\"].astype(\"float32\")\n",
        "y = npz[\"label_list\"].astype(\"int32\")\n",
        "print(\"Features:\", X.shape, \"Labels:\", y.shape)\n",
        "\n",
        "# Optional subsample for readability\n",
        "max_points = 4000\n",
        "if len(X) > max_points:\n",
        "    rng = np.random.default_rng(0)\n",
        "    idx = rng.choice(len(X), size=max_points, replace=False)\n",
        "    X, y = X[idx], y[idx]\n",
        "    print(f\"Subsampled to {len(X)} points for plotting\")\n",
        "\n",
        "# t-SNE\n",
        "perplexity = min(30, max(5, len(X)//100))  # heuristic\n",
        "print(\"Using perplexity:\", perplexity)\n",
        "tsne = TSNE(n_components=2, init=\"pca\", learning_rate=\"auto\", perplexity=perplexity, random_state=0)\n",
        "Z = tsne.fit_transform(X)\n",
        "\n",
        "# Plot\n",
        "plt.figure(figsize=(8, 6))\n",
        "unique_labels = np.unique(y)\n",
        "palette = sns.color_palette(\"tab20\", n_colors=len(unique_labels))\n",
        "for i, cls in enumerate(unique_labels):\n",
        "    m = (y == cls)\n",
        "    plt.scatter(Z[m, 0], Z[m, 1], s=5, color=palette[i % len(palette)], label=str(cls), alpha=0.7)\n",
        "plt.title(f\"t-SNE of CLIP features ({split} split)\")\n",
        "plt.axis(\"off\")\n",
        "plt.tight_layout()\n",
        "\n",
        "# Save and show\n",
        "out_png = repo_root / f\"tsne_{split}.png\"\n",
        "plt.savefig(out_png, dpi=200)\n",
        "print(\"Saved:\", out_png)\n",
        "plt.show()\n",
        "\n"
      ]
    },
    {
      "cell_type": "code",
      "execution_count": null,
      "metadata": {},
      "outputs": [],
      "source": [
        "# (Optional) Extract additional splits\n",
        "# Set split = \"train\" or \"val\" in the first cell and re-run extraction + plot.\n",
        "# Or do it programmatically here:\n",
        "\n",
        "for sp in [\"train\", \"val\"]:\n",
        "    cmd2 = [\n",
        "        sys.executable,\n",
        "        str(repo_root / \"lpclip/feat_extractor.py\"),\n",
        "        \"--root\", str(data_root),\n",
        "        \"--output-dir\", str(output_dir),\n",
        "        \"--config-file\", str(trainer_cfg),\n",
        "        \"--dataset-config-file\", str(dataset_cfg),\n",
        "        \"--split\", sp,\n",
        "    ]\n",
        "    print(\"\\nExtracting:\", sp)\n",
        "    res2 = subprocess.run(cmd2, cwd=str(repo_root), capture_output=True, text=True)\n",
        "    if res2.returncode != 0:\n",
        "        print(res2.stderr)\n",
        "        raise RuntimeError(f\"Extraction failed for split {sp}\")\n",
        "print(\"Done.\")\n",
        "\n"
      ]
    }
  ],
  "metadata": {
    "kernelspec": {
      "display_name": "Python 3",
      "language": "python",
      "name": "python3"
    },
    "language_info": {
      "codemirror_mode": {
        "name": "ipython",
        "version": 3
      },
      "file_extension": ".py",
      "mimetype": "text/x-python",
      "name": "python",
      "nbconvert_exporter": "python",
      "pygments_lexer": "ipython3",
      "version": "3.10.11"
    }
  },
  "nbformat": 4,
  "nbformat_minor": 2
}
